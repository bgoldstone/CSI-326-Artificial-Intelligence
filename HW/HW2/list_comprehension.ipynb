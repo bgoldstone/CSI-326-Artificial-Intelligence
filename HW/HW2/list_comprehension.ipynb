{
 "cells": [
  {
   "cell_type": "markdown",
   "metadata": {},
   "source": [
    "# List Comprehension examples."
   ]
  },
  {
   "cell_type": "code",
   "execution_count": 7,
   "metadata": {},
   "outputs": [
    {
     "name": "stdout",
     "output_type": "stream",
     "text": [
      "Length: 500, cat[0]: cat, cat[499]: cat\n"
     ]
    }
   ],
   "source": [
    "# cat\n",
    "cat = [\"cat\" for _ in range(500)]\n",
    "print(f'Length: {len(cat)}, cat[0]: {cat[0]}, cat[499]: {cat[499]}')"
   ]
  },
  {
   "cell_type": "code",
   "execution_count": 16,
   "metadata": {},
   "outputs": [
    {
     "name": "stdout",
     "output_type": "stream",
     "text": [
      "\n",
      "Length: 100\n",
      "Countdown: \n",
      "[100, 99, 98, 97, 96, 95, 94, 93, 92, 91, 90, 89, 88, 87, 86, 85, 84, 83, 82, 81, 80, 79, 78, 77, 76, 75, 74, 73, 72, 71, 70, 69, 68, 67, 66, 65, 64, 63, 62, 61, 60, 59, 58, 57, 56, 55, 54, 53, 52, 51, 50, 49, 48, 47, 46, 45, 44, 43, 42, 41, 40, 39, 38, 37, 36, 35, 34, 33, 32, 31, 30, 29, 28, 27, 26, 25, 24, 23, 22, 21, 20, 19, 18, 17, 16, 15, 14, 13, 12, 11, 10, 9, 8, 7, 6, 5, 4, 3, 2, 1]\n"
     ]
    }
   ],
   "source": [
    "# Countdown\n",
    "count = [x for x in range(100,0,-1)]\n",
    "print(f'\\nLength: {len(count)}\\nCountdown: \\n{count}')\n"
   ]
  },
  {
   "cell_type": "code",
   "execution_count": 27,
   "metadata": {},
   "outputs": [
    {
     "name": "stdout",
     "output_type": "stream",
     "text": [
      "Length: 100, one_hundred_squares[0:5]: [1, 4, 9, 16, 25], one_hundred_squares[95:] [9216, 9409, 9604, 9801, 10000]\n"
     ]
    }
   ],
   "source": [
    "# one_hundred_squares\n",
    "one_hundred_squares = [[x**2 for x in range(1,101)] for _ in range(100)]\n",
    "print(\n",
    "    f'Length: {len(one_hundred_squares)}, one_hundred_squares[0:5]: {one_hundred_squares[0][0:5]}, one_hundred_squares[95:] {one_hundred_squares[99][95:]}')\n",
    "# print(\"\\n\\n\" + str(one_hundred_squares))"
   ]
  },
  {
   "cell_type": "code",
   "execution_count": 28,
   "metadata": {},
   "outputs": [
    {
     "name": "stdout",
     "output_type": "stream",
     "text": [
      "[5, 2, 6, 3, 2, 2, 3, 4, 3]\n"
     ]
    }
   ],
   "source": [
    "# word count\n",
    "string = \"Today is Monday and it is not very hot\"\n",
    "word_count = [len(word) for word in string.split()]\n",
    "print(word_count)"
   ]
  }
 ],
 "metadata": {
  "interpreter": {
   "hash": "c137f745d815f9288da3e3df0d4aa577cfd8c7128546db6d2224d64497c3734d"
  },
  "kernelspec": {
   "display_name": "Python 3.9.10 64-bit ('.venv': venv)",
   "language": "python",
   "name": "python3"
  },
  "language_info": {
   "codemirror_mode": {
    "name": "ipython",
    "version": 3
   },
   "file_extension": ".py",
   "mimetype": "text/x-python",
   "name": "python",
   "nbconvert_exporter": "python",
   "pygments_lexer": "ipython3",
   "version": "3.9.10"
  },
  "orig_nbformat": 4
 },
 "nbformat": 4,
 "nbformat_minor": 2
}
