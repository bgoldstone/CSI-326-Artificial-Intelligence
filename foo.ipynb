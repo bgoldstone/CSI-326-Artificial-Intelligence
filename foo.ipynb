{
 "cells": [],
 "metadata": {
  "interpreter": {
   "hash": "c137f745d815f9288da3e3df0d4aa577cfd8c7128546db6d2224d64497c3734d"
  },
  "kernelspec": {
   "display_name": "Python 3.9.10 64-bit ('.venv': venv)",
   "language": "python",
   "name": "python3"
  },
  "language_info": {
   "codemirror_mode": {
    "name": "ipython",
    "version": 3
   },
   "file_extension": ".py",
   "mimetype": "text/x-python",
   "name": "python",
   "nbconvert_exporter": "python",
   "pygments_lexer": "ipython3",
   "version": "3.9.10"
  },
  "orig_nbformat": 4
 },
 "nbformat": 4,
 "nbformat_minor": 2
}
